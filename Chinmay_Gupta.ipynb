{
 "cells": [
  {
   "cell_type": "code",
   "execution_count": null,
   "metadata": {
    "id": "HOUW4USY1XFq"
   },
   "outputs": [],
   "source": [
    "from google.colab import files,drive\n",
    "drive.mount('/content/drive')"
   ]
  },
  {
   "cell_type": "code",
   "execution_count": null,
   "metadata": {
    "id": "1T73z_rK1stJ"
   },
   "outputs": [],
   "source": [
    "import torch\n",
    "import torch.nn as nn\n",
    "import torch.nn.functional as F\n",
    "import torch.optim as optim\n",
    "import tensorflow as tf\n",
    "\n",
    "device = torch.device('cuda:0' if torch.cuda.is_available() else 'cpu')\n",
    "\n",
    "\n",
    "'''\n",
    "print(\"Tensorflow version \" + tf.__version__)\n",
    "\n",
    "\n",
    "#Using TPU --> Please Enable TPU by going into Edit-> Notebook settings -> Select TPU as hardware accelerator\n",
    "try:\n",
    "  tpu = tf.distribute.cluster_resolver.TPUClusterResolver()  # TPU detection\n",
    "  print('Running on TPU ', tpu.cluster_spec().as_dict()['worker'])\n",
    "except ValueError:\n",
    "  raise BaseException('ERROR: Not connected to a TPU runtime; please see the comment above for instructions!')\n",
    "'''\n"
   ]
  },
  {
   "cell_type": "markdown",
   "metadata": {
    "id": "exRd41cUoj-C"
   },
   "source": [
    "##Define NN Model"
   ]
  },
  {
   "cell_type": "code",
   "execution_count": null,
   "metadata": {
    "id": "fDRfj7Kx7sLw"
   },
   "outputs": [],
   "source": [
    "class Net(nn.Module):\n",
    "  \n",
    "  def __init__(self):\n",
    "    super().__init__()\n",
    "    self.conv1 = nn.Conv2d(in_channels = 1,out_channels = 6, kernel_size=(5,5))     # Convolution Layer 1\n",
    "    self.pool = nn.MaxPool2d(2,2)                                                   # Pooling layer\n",
    "    self.conv2 = nn.Conv2d(in_channels = 6,out_channels = 16, kernel_size=(5,5))    # Convolution Layer 2\n",
    "    self.fc1 = nn.Linear(16*4*4,120)                                                # FFN Model - Layer 1\n",
    "    self.fc2 = nn.Linear(120,84)                                                    # FFN Model - Layer 2  \n",
    "    self.fc3 = nn.Linear(84,10)                                                     # FFN Model - Ouput Layer\n",
    "    self.do1 = nn.Dropout(p=0.7, inplace=False)                                     # Dropout Layer 1\n",
    "    self.do2 = nn.Dropout(p=0.7, inplace=False)                                     # Dropout Layer 2\n",
    "\n",
    "  def forward(self, x):\n",
    "    x = self.pool(F.relu(self.conv1(x)))\n",
    "    x = self.pool(F.relu(self.conv2(x)))\n",
    "    x = x.view(-1, self.num_flat_features(x))\n",
    "    x = F.relu(self.fc1(x))\n",
    "    x = self.do1(x)   \n",
    "    x = F.relu(self.fc2(x))\n",
    "    x = self.do2(x) \n",
    "    x = F.log_softmax(self.fc3(x))\n",
    "    return x\n",
    "\n",
    "  def num_flat_features(self,x):\n",
    "    \n",
    "    size = x.size()[1:]\n",
    "    num_features = 1\n",
    "    \n",
    "    for s in size:\n",
    "      num_features *= s\n",
    "    \n",
    "    return num_features\n",
    "\n",
    "\n",
    "#My NN Model\n",
    "net = Net().to(device)\n",
    "print(net)"
   ]
  },
  {
   "cell_type": "markdown",
   "metadata": {
    "id": "qaQbPRlioo9o"
   },
   "source": [
    "##Define function to create custom dataset and override inbuilt functions"
   ]
  },
  {
   "cell_type": "code",
   "execution_count": null,
   "metadata": {
    "id": "u6l6FOl77hwn"
   },
   "outputs": [],
   "source": [
    "# create customized dataset\n",
    "\n",
    "import os\n",
    "import glob\n",
    "import numpy as np\n",
    "from skimage import io\n",
    "\n",
    "from torch.utils.data import Dataset, DataLoader\n",
    "\n",
    "##Override \n",
    "\n",
    "class MNISTDataset(Dataset):\n",
    "\n",
    "  def __init__(self,dir,transform = None):\n",
    "    self.dir = dir\n",
    "    self.transform = transform\n",
    "\n",
    "  def __len__(self):\n",
    "    files = glob.glob(self.dir+'/*.jpg')[:100]\n",
    "    return len(files)\n",
    "\n",
    "  def __getitem__(self,idx):\n",
    "    if torch.is_tensor(idx):\n",
    "      idx = idx.tolist()\n",
    "\n",
    "    all_instances = glob.glob(self.dir+'/*.jpg')[:100] # returns list of file names \n",
    "    img_fname = os.path.join(self.dir, all_instances[idx])\n",
    "    image = io.imread(img_fname)\n",
    "    digit = int(self.dir.split('/')[-1].strip())\n",
    "    label = np.array(digit)\n",
    "\n",
    "    instance = {'image':image, 'label':label}\n",
    "\n",
    "    if self.transform:\n",
    "      instance = self.transform(instance)\n",
    "\n",
    "    return instance\n"
   ]
  },
  {
   "cell_type": "code",
   "execution_count": null,
   "metadata": {
    "id": "t3LhxDC_-V2W"
   },
   "outputs": [],
   "source": [
    "# create or define a customized transformation for each instance in the dataset\n",
    "\n",
    "from skimage import transform\n",
    "from torchvision import transforms, utils\n",
    "\n",
    "class Rescale(object):\n",
    "  def __init__(self,output_size):\n",
    "    assert isinstance(output_size, (int,tuple))\n",
    "    self.output_size=output_size\n",
    "\n",
    "  def __call__(self,sample):\n",
    "    image, label = sample['image'], sample['label']\n",
    "\n",
    "    h, w = image.shape[-2:]\n",
    "    if isinstance(self.output_size, int):\n",
    "      if h > w:\n",
    "        new_h, new_w = self.output_size*h/w, self.output_size\n",
    "      else:\n",
    "        new_h, new_w = self.output_size, self.output_size*w/h\n",
    "    else:\n",
    "      new_h, new_w = self.output_size\n",
    "\n",
    "    new_h, new_w = int(new_h), int(new_w)\n",
    "\n",
    "    new_image = transform.resize(image, (new_h, new_w))\n",
    "\n",
    "    return {'image': new_image, 'label': label}\n",
    "\n",
    "\n",
    "class ToTensor(object):\n",
    "  def __call__(self, sample):\n",
    "    image, label = sample['image'], sample['label']\n",
    "\n",
    "    image = image.reshape((1,image.shape[0], image.shape[1]))\n",
    "\n",
    "    return {'image': torch.from_numpy(image), 'label': torch.from_numpy(label)}"
   ]
  },
  {
   "cell_type": "markdown",
   "metadata": {
    "id": "tJonmbkbpk0Z"
   },
   "source": [
    "## Import MNIST data and concat together in one dataset"
   ]
  },
  {
   "cell_type": "code",
   "execution_count": null,
   "metadata": {
    "id": "a3MoXmktA45X"
   },
   "outputs": [],
   "source": [
    "#create train/val dataloader\n",
    "from keras.datasets import mnist\n",
    "from torch.utils.data import random_split\n",
    "from torchvision import transforms,utils\n",
    "\n",
    "batch_size = 32\n",
    "list_datasets = []\n",
    "\n",
    "for i in range(10):\n",
    "  cur_ds = MNISTDataset('/content/drive/My Drive/MNIST/trainingset/'+str(i), transform = transforms.Compose([Rescale(28),ToTensor()]))\n",
    "  list_datasets.append(cur_ds)    \n",
    "\n",
    "dataset = torch.utils.data.ConcatDataset(list_datasets)\n",
    "print(len(dataset))"
   ]
  },
  {
   "cell_type": "markdown",
   "metadata": {
    "id": "Pocm5n2bpb0c"
   },
   "source": [
    "##Create Dataset and Dataloader objects\n"
   ]
  },
  {
   "cell_type": "code",
   "execution_count": null,
   "metadata": {
    "id": "eIli9H71Hz8w"
   },
   "outputs": [],
   "source": [
    "train_size = int(len(dataset)*0.7)\n",
    "val_size = len(dataset)-train_size\n",
    "\n",
    "train_dataset, val_dataset = random_split(dataset,[train_size, val_size])\n",
    "\n",
    "train_dataloader = DataLoader(train_dataset, batch_size = batch_size, shuffle=True, num_workers = 0)\n",
    "val_dataloader = DataLoader(val_dataset, batch_size = batch_size, shuffle=True, num_workers = 0)"
   ]
  },
  {
   "cell_type": "markdown",
   "metadata": {
    "id": "uE-mnziepsbl"
   },
   "source": [
    "## Training and Validation Function"
   ]
  },
  {
   "cell_type": "code",
   "execution_count": null,
   "metadata": {
    "id": "dr2qMH4GDoux"
   },
   "outputs": [],
   "source": [
    "#training\n",
    "\n",
    "epochs = 10\n",
    "lr  = 1e-3\n",
    "optimizer = optim.Adam(net.parameters(1), lr=lr, weight_decay = 1e-5)\n",
    "criterion = nn.CrossEntropyLoss()\n",
    "\n",
    "running_loss = 0.0\n",
    "\n",
    "for epoch in range(epochs):\n",
    "  for batch_idx, batch in enumerate(train_dataloader):\n",
    "    inputs, targets = batch['image'].to(device, dtype=torch.float), batch['label'].to(device, dtype=torch.long)\n",
    "\n",
    "    optimizer.zero_grad()\n",
    "    predicted_output = net(inputs)\n",
    "    loss = criterion(predicted_output, targets)\n",
    "    loss.backward()\n",
    "    optimizer.step()\n",
    "    \n",
    "\n",
    "    running_loss += loss.item()\n",
    "    if(batch_idx+1)%10 == 0:\n",
    "      print('epoch %d batch %d, training_loss:%.3f'%(epoch+1, batch_idx+1, running_loss/10))\n",
    "      running_loss = 0.0\n",
    "\n",
    "  #validation\n",
    "\n",
    "  net.eval()\n",
    "\n",
    "  correct = [0.0] * 10\n",
    "  total = [0.0] * 10\n",
    "\n",
    "\n",
    "  with torch.no_grad():\n",
    "    for batch_idx, batch in enumerate(val_dataloader):\n",
    "      images, labels = batch['image'].to(device, dtype=torch.float), batch['label'].to(device, dtype=torch.long)\n",
    "      predicted_outputs = net(images)\n",
    "\n",
    "      _, predicted_labels = torch.max(predicted_outputs, 1)\n",
    "      c = (predicted_labels==labels)\n",
    "      \n",
    "      for i in range(len(labels)):\n",
    "        label = labels[i]\n",
    "        correct[label] += c[i].item()\n",
    "        total[label] += 1\n",
    "      \n",
    "    for i in range(10):\n",
    "      print('\\t Validation accuracy for digit %d: %.2f' %(i, 100*correct[i]/total[i]))"
   ]
  }
 ],
 "metadata": {
  "accelerator": "GPU",
  "colab": {
   "collapsed_sections": [],
   "name": "Chinmay_Gupta",
   "provenance": []
  },
  "kernelspec": {
   "display_name": "Python 3",
   "language": "python",
   "name": "python3"
  },
  "language_info": {
   "codemirror_mode": {
    "name": "ipython",
    "version": 3
   },
   "file_extension": ".py",
   "mimetype": "text/x-python",
   "name": "python",
   "nbconvert_exporter": "python",
   "pygments_lexer": "ipython3",
   "version": "3.7.3"
  }
 },
 "nbformat": 4,
 "nbformat_minor": 1
}
